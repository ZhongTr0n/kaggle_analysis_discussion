{
  "cells": [
    {
      "metadata": {
        "_uuid": "8f2839f25d086af736a60e9eeb907d3b93b6e0e5",
        "_cell_guid": "b1076dfc-b9ad-4769-8c92-a6c4dae69d19",
        "trusted": true,
        "scrolled": true,
        "_kg_hide-input": true
      },
      "cell_type": "code",
      "source": "# This Python 3 environment comes with many helpful analytics libraries installed\n# It is defined by the kaggle/python docker image: https://github.com/kaggle/docker-python\n# For example, here's several helpful packages to load in \n\nimport numpy as np # linear algebra\nimport pandas as pd # data processing, CSV file I/O (e.g. pd.read_csv)\n\n# Input data files are available in the \"../input/\" directory.\n# For example, running this (by clicking run or pressing Shift+Enter) will list the files in the input directory\n\n\nimport os\nprint(os.listdir(\"../input\"))\n\n# Any results you write to the current directory are saved as output.",
      "execution_count": null,
      "outputs": []
    },
    {
      "metadata": {
        "_uuid": "bd3cd60b01b2dd70204920ff1c658aedecf0faad"
      },
      "cell_type": "markdown",
      "source": "# Titanic discussion analysis\n\nUsing Beautiful Soup I scraped the discussion in the most popular Kaggle competition: Titanic\nFor every topic I extracted the following variables:\n- Title of the topic\n- Tier of the author\n- Number of votes\n- Number of comments\n- Date of post\n\nThe idea is to do some text modelling on the different topics, but since I'm still learning and I kept postponing finishing the basis part of the notebook looking for the perfect approach, I decided to publish the descriptive analysis. The code is not very Pythonesque, but I wanted to focus on the result. Soon, I will do the text analysis on the titles.\n\nAny feedback would be greatly appreciated.\n\n"
    },
    {
      "metadata": {
        "_uuid": "26328e35d9bde952a4a80460d46200c884963d13"
      },
      "cell_type": "markdown",
      "source": " ## Data description"
    },
    {
      "metadata": {
        "_uuid": "337ae6d0e6b1bfab491647473916ca5d9c7e3447"
      },
      "cell_type": "markdown",
      "source": "> ### Data overview\nThe webscrape took place in august 2018. After cleaning the data and removing one row with a missing title. The data looks like this"
    },
    {
      "metadata": {
        "trusted": true,
        "_uuid": "9cf5d3f69c1c7dfb556b48d2d9748a4e3db5fd1b",
        "_kg_hide-output": false,
        "_kg_hide-input": true
      },
      "cell_type": "code",
      "source": "import pandas as pd\nimport matplotlib.pyplot as plt\nimport seaborn as sns\n%matplotlib inline\nimport datetime as dt\nfrom datetime import timedelta\n\n\ndf = pd.read_csv('../input/output_raw.csv')\ndf['Post date'] = pd.to_datetime(df['Post date'])\ndf.head()\n\n\n# datetime.datetime.strptime(row[\"Time\"], \"%Y-%m-%d %H:%M:%S\") - datetime.timedelta(hours=3)\ndf['Post date'] = df['Post date'].apply(lambda x: x - dt.timedelta(hours=6))\ndf.head()\n\n",
      "execution_count": null,
      "outputs": []
    },
    {
      "metadata": {
        "trusted": true,
        "_uuid": "2609d387fb721b0c809aec1435ad3f3604637d22",
        "_kg_hide-input": true
      },
      "cell_type": "code",
      "source": "df.info()",
      "execution_count": null,
      "outputs": []
    },
    {
      "metadata": {
        "trusted": true,
        "_uuid": "76d7e9ca97eb32fb5bb1c3a9a4d88b7fb5822624",
        "_kg_hide-input": true
      },
      "cell_type": "code",
      "source": "df.describe()",
      "execution_count": null,
      "outputs": []
    },
    {
      "metadata": {
        "_uuid": "11e9aa10ffa0acdcf31b40483bd8a5226694842d"
      },
      "cell_type": "markdown",
      "source": "### Topic titles\n\nThe topic titles are all strings. The boxplot shows the distribution of the length by tier. Although most of the titles are around the same length, you can clearly see how the masters and especially grandmasters use considerably shorter titles."
    },
    {
      "metadata": {
        "trusted": true,
        "_uuid": "0c178fcec49148c5cfd53882d7dd4a16034dd6af",
        "_kg_hide-input": true
      },
      "cell_type": "code",
      "source": "df[\"Title\"].str.len().describe()",
      "execution_count": null,
      "outputs": []
    },
    {
      "metadata": {
        "trusted": true,
        "scrolled": true,
        "_uuid": "9576efdac6a49634efe0bfe68019b3825a678edb",
        "_kg_hide-input": true
      },
      "cell_type": "code",
      "source": "fig, axes = plt.subplots(figsize=(10,10))\n\naxes.boxplot([df['Title'].str.len().dropna(),\n             df[df['Tier']=='novice']['Title'].str.len().dropna(),\n             df[df['Tier']=='contributor']['Title'].str.len().dropna(),\n             df[df['Tier']=='expert']['Title'].str.len().dropna(),\n             df[df['Tier']=='master']['Title'].str.len().dropna(),\n             df[df['Tier']=='grandmaster']['Title'].str.len().dropna(),\n             df[df['Tier']=='staff']['Title'].str.len().dropna(),])\naxes.set_xticklabels(['total', 'novice', 'contributor', 'expert', 'master', 'grandmaster', 'staff'])\naxes.set_ylim(0,150)\n\naxes.set_title('Length of topic title - boxplot', fontsize=15)",
      "execution_count": null,
      "outputs": []
    },
    {
      "metadata": {
        "trusted": true,
        "_uuid": "b2522b3b963722755cc6b254dd06160de97f9182",
        "_kg_hide-input": true
      },
      "cell_type": "code",
      "source": "df['Title'].value_counts().head(15)",
      "execution_count": null,
      "outputs": []
    },
    {
      "metadata": {
        "_cell_guid": "79c7e3d0-c299-4dcb-8224-4455121ee9b0",
        "collapsed": true,
        "_uuid": "d629ff2d2480ee46fbb7e2d37f6b5fab8052498a",
        "trusted": false
      },
      "cell_type": "markdown",
      "source": "### Votes"
    },
    {
      "metadata": {
        "trusted": true,
        "_uuid": "8e678a901e6f12813485245ef0fa3505212ec38b",
        "_kg_hide-input": true
      },
      "cell_type": "code",
      "source": "fig, axes = plt.subplots(figsize=(10,10))\n\n\naxes.boxplot([df['Title'].str.len().dropna(),\n             df[df['Tier']=='novice']['Votes'].dropna(),\n             df[df['Tier']=='contributor']['Votes'].dropna(),\n             df[df['Tier']=='expert']['Votes'].dropna(),\n             df[df['Tier']=='master']['Votes'].dropna(),\n             df[df['Tier']=='grandmaster']['Votes'].dropna(),\n             df[df['Tier']=='staff']['Votes'].dropna(),])\naxes.set_xticklabels(['total', 'novice', 'contributor', 'expert', 'master', 'grandmaster', 'staff'])\naxes.set_ylim(0,500)\n\naxes.set_title('Number of votes - boxplot', fontsize=15)",
      "execution_count": null,
      "outputs": []
    },
    {
      "metadata": {
        "_uuid": "c1b6c083fcba1e70ddac991d8447663315d34a32"
      },
      "cell_type": "markdown",
      "source": "Where novice posts rarely get votes, the numbers increase when the tier of the user is higher. Again, especially the grandmaster's post are rated significantly higher on average. "
    },
    {
      "metadata": {
        "_uuid": "08abdeaabde8b4f409593ab0a51acc277a6eb25b"
      },
      "cell_type": "raw",
      "source": ""
    },
    {
      "metadata": {
        "trusted": true,
        "_uuid": "0e06ff06717ab8673f8b42dee046e69e02e0dad8"
      },
      "cell_type": "markdown",
      "source": "### Comments"
    },
    {
      "metadata": {
        "trusted": true,
        "_uuid": "c92539b2cf07d33de874ad0873cfec3b5efabc7c",
        "_kg_hide-input": true
      },
      "cell_type": "code",
      "source": "fig, axes = plt.subplots(figsize=(10,10))\n\naxes.boxplot([df['Title'].str.len().dropna(),\n             df[df['Tier']=='novice']['Number comments'].dropna(),\n             df[df['Tier']=='contributor']['Number comments'].dropna(),\n             df[df['Tier']=='expert']['Number comments'].dropna(),\n             df[df['Tier']=='master']['Number comments'].dropna(),\n             df[df['Tier']=='grandmaster']['Number comments'].dropna(),\n             df[df['Tier']=='staff']['Number comments'].dropna(),])\naxes.set_xticklabels(['total', 'novice', 'contributor', 'expert', 'master', 'grandmaster', 'staff'])\naxes.set_ylim(0,250)\n\naxes.set_title('Number of comments - boxplot', fontsize=15)",
      "execution_count": null,
      "outputs": []
    },
    {
      "metadata": {
        "_uuid": "da8ce2c9b0adfbf4ad17429ebfe34c412d928bff"
      },
      "cell_type": "markdown",
      "source": "Just like numbers for the votes, a higher tier results in more comments. Please notice the scale on the y-axis is different from the previous chart."
    },
    {
      "metadata": {
        "_uuid": "7d6eb304d099a1a177579ddb08fa701f1164ba24"
      },
      "cell_type": "markdown",
      "source": " ## Trends over time"
    },
    {
      "metadata": {
        "trusted": true,
        "_uuid": "2ff31f6fc68daa395fc217f17f0ff62e5775e70f",
        "_kg_hide-input": true
      },
      "cell_type": "code",
      "source": "df = df.drop(df.index[1554]) # Outlier\ndf_to2017 = df[df['Post date'].dt.year < 2018]",
      "execution_count": null,
      "outputs": []
    },
    {
      "metadata": {
        "trusted": true,
        "_uuid": "087b8ccf1b01144884e9422b651a65c7e52d0a90",
        "_kg_hide-input": true
      },
      "cell_type": "code",
      "source": "x = []\nfor item in np.sort(df_to2017['Post date'].dt.to_period(\"M\").unique()):\n    x.append(item.to_timestamp())\n\ndef time_series(tier):\n    series = df_to2017[df_to2017['Tier'] == tier]['Title'].groupby(df_to2017['Post date'].dt.to_period(\"M\")).agg('count')\n    list_ts = []\n    for item in np.sort(df_to2017['Post date'].dt.to_period(\"M\").unique()):\n        if len(series[series.index== item].values) == 0:\n            list_ts.append(0)\n        else:\n            list_ts.append(series[series.index== item].values[0])\n    return(list_ts)  \n    \ny = []\ny.append(time_series('novice'))\ny.append(time_series('contributor'))\ny.append(time_series('expert'))\ny.append(time_series('master'))\ny.append(time_series('grandmaster'))\ny.append(time_series('staff'))\n\nfig, axes = plt.subplots(figsize=(20,10))\nplt.stackplot(x,y, labels=['Novice','Contributor','Expert', 'Master', 'Grandmaster', 'Staff'])\nplt.legend(loc='upper left')\nplt.title('Number of posts by month', fontsize=20)\nplt.xticks(fontsize=15)\nplt.show()",
      "execution_count": null,
      "outputs": []
    },
    {
      "metadata": {
        "trusted": true,
        "_uuid": "16ea6aebdaaf7a7faa2784e5d59f23067e23b9bb"
      },
      "cell_type": "markdown",
      "source": ""
    },
    {
      "metadata": {
        "trusted": true,
        "_uuid": "4f15e98f35da279c6895f8cfb64a6445e4eb3d78",
        "_kg_hide-input": true
      },
      "cell_type": "code",
      "source": "bar_data = df.groupby([(df['Post date'].dt.year),'Tier'])['Title'].size().reset_index()\nbar_data = bar_data.set_index([\"Post date\", \"Tier\"]).unstack(level=0)\n\nbar_data.columns = ['2012','2013','2014','2015','2016','2017','2018']\nbar_data.fillna(0, inplace=True)\n\nfor year in list(bar_data):\n    bar_data[year] = bar_data[year].apply(lambda x: (x / (bar_data[year].sum())))\nfrom matplotlib import rc\n \nfig, axes = plt.subplots(figsize=(20,10))\n\n# y-axis in bold\nrc('font', weight='bold')\n \n# Values of each group\nbars1 = bar_data.iloc[4,:] # novice\nbars2 = bar_data.iloc[0,:] # contributor\nbars3 = bar_data.iloc[1,:] # expert\nbars4 = bar_data.iloc[3,:] # master\nbars5 = bar_data.iloc[2,:] # grandmaster\nbars6 = bar_data.iloc[5,:] # staff\n\n# The position of the bars on the x-axis\nr = [0,1,2,3,4,5,6]\n \nnames = ['2012','2013','2014','2015','2016','2017','2018']\nbarWidth = 0.9\n \nplt.bar(r, bars1, color='#003f5c', edgecolor='white', width=barWidth)\nplt.bar(r, bars2, bottom=bars1, color='#444e86', edgecolor='white', width=barWidth)\nplt.bar(r, bars3, bottom=(bars1+bars2), color='#955196', edgecolor='white', width=barWidth)\nplt.bar(r, bars4, bottom=(bars1+bars2+bars3), color='#dd5182', edgecolor='white', width=barWidth)\nplt.bar(r, bars5, bottom=(bars1+bars2+bars3+bars4), color='#ff6e54', edgecolor='white', width=barWidth)\nplt.bar(r, bars6, bottom=(bars1+bars2+bars3+bars4+bars5), color='#ffa600', edgecolor='white', width=barWidth)\n\nplt.xticks(r, names, fontweight='bold', fontsize=15)\nplt.legend(['Novice', 'Contributor', 'Expert', 'Master', 'Grandmaster', 'Staff'])\nplt.ylim((0,1.05))\nplt.title('Annual contribution by tier', fontsize=20)\nplt.show()",
      "execution_count": null,
      "outputs": []
    },
    {
      "metadata": {
        "_uuid": "6841856e65800683f7fb281064561250af6fb058"
      },
      "cell_type": "markdown",
      "source": "These charts clearly show the growth Kaggle has been experiencing over the last few years, especially from 2016 onwards.  The stacked barplot demonstrate how the share of novice contributions decreases. This should be a good thing, as it should translate in more contributions of higher ranked users. "
    },
    {
      "metadata": {
        "_uuid": "3692aae94d88e6b6bfb3469c66f92d112927350c"
      },
      "cell_type": "markdown",
      "source": "## Most popular times"
    },
    {
      "metadata": {
        "trusted": true,
        "_uuid": "6320e91c072cc836cf0ea4c3945f8c7b32f2704f",
        "scrolled": true,
        "_kg_hide-input": true
      },
      "cell_type": "code",
      "source": "import calendar\nfig, axes = plt.subplots(figsize=(20,10))\n\ny = []\nfor item in np.sort(df_to2017['Post date'].dt.month.unique()):\n    y.append(calendar.month_name[item])\n\nx = ((df_to2017['Title'].groupby(df_to2017['Post date'].dt.month).agg('count')).values)\nplt.subplot2grid((2,2),(0,0), colspan=2)\nplt.title('Number of posts by month', fontsize=20)\nplt.xticks(fontsize=15)\n\n\nplt.bar(y, x)\n\nx = ((df_to2017['Votes'].groupby(df_to2017['Post date'].dt.month).agg('mean')).values)\nplt.subplot2grid((2,2),(1,0))\nplt.xticks(rotation=45)\nplt.title('Average # votes per post', fontsize=20)\nplt.xticks(fontsize=15)\nplt.bar(y, x)\n\nx = ((df_to2017['Number comments'].groupby(df_to2017['Post date'].dt.month).agg('mean')).values)\nplt.subplot2grid((2,2),(1,1))\nplt.xticks(rotation=45)\nplt.title('Average # comments per post', fontsize=20)\nplt.xticks(fontsize=15)\n\n\nplt.bar(y, x)\n\nplt.tight_layout()\nplt.show()",
      "execution_count": null,
      "outputs": []
    },
    {
      "metadata": {
        "_uuid": "8c038f5df2ab4a797d9a7b156451598ad0109114"
      },
      "cell_type": "markdown",
      "source": "Especially during the winter (holiday) period the number of posts, votes and comment go up. Most likely because for most data scientist use Kaggle in their spare time."
    },
    {
      "metadata": {
        "trusted": true,
        "_uuid": "446a52fba637e6b6a8c029de75d6a6398f108f9a",
        "_kg_hide-input": true
      },
      "cell_type": "code",
      "source": "## import calendar\nfig, axes = plt.subplots(figsize=(20,10))\n\ny = []\nfor item in np.sort(df_to2017['Post date'].dt.weekday.unique()):\n    y.append(calendar.day_name[item])\n\nx = ((df_to2017['Title'].groupby(df_to2017['Post date'].dt.weekday).agg('count')).values)\nplt.subplot2grid((2,2),(0,0), colspan=2)\nplt.title('Number of posts by weekday', fontsize=20)\nplt.bar(y, x)\n\nx = ((df_to2017['Votes'].groupby(df_to2017['Post date'].dt.weekday).agg('mean')).values)\nplt.subplot2grid((2,2),(1,0))\nplt.title('Average # votes per post', fontsize=20)\nplt.bar(y, x)\n\nx = ((df_to2017['Number comments'].groupby(df_to2017['Post date'].dt.weekday).agg('mean')).values)\nplt.subplot2grid((2,2),(1,1))\nplt.title('Average # comments per post', fontsize=20)\nplt.bar(y, x)\n\nplt.tight_layout()\nplt.show()",
      "execution_count": null,
      "outputs": []
    },
    {
      "metadata": {
        "_uuid": "6509be10a9b368aa452ed037f8ed9f7ab8859776"
      },
      "cell_type": "markdown",
      "source": "The trend from the previous chart where we can see more activity during the holiday period is confirmed in the weekly numbers. Given that the popularity is by far the highest on Sundays. "
    },
    {
      "metadata": {
        "trusted": true,
        "_uuid": "05cd9b96ec906214b917e5b6d53bc98572572bb5",
        "_kg_hide-input": true
      },
      "cell_type": "code",
      "source": "import calendar\nfig, axes = plt.subplots(figsize=(20,10))\n\ny = []\nfor item in np.sort(df_to2017['Post date'].dt.hour.unique()):\n    y.append(item)\n\nx = ((df_to2017['Title'].groupby(df_to2017['Post date'].dt.hour).agg('count')).values)\nplt.subplot2grid((2,2),(0,0), colspan=2)\nplt.title('Number of posts by hour of the day (UTC-5)', fontsize=20)\nplt.bar(y, x)\n\nx = ((df_to2017['Votes'].groupby(df_to2017['Post date'].dt.hour).agg('mean')).values)\nplt.subplot2grid((2,2),(1,0))\nplt.title('Average # votes per post', fontsize=20)\nplt.bar(y, x)\n\nx = ((df_to2017['Number comments'].groupby(df_to2017['Post date'].dt.hour).agg('mean')).values)\nplt.subplot2grid((2,2),(1,1))\nplt.title('Average # comments per post', fontsize=20)\nplt.bar(y, x)\n\nplt.tight_layout()\nplt.show()",
      "execution_count": null,
      "outputs": []
    },
    {
      "metadata": {
        "trusted": true,
        "_uuid": "59810e76960ac1730f62f3bddde307e7604fa3fb",
        "_kg_hide-input": true
      },
      "cell_type": "code",
      "source": "# ORGINAL TIME HEATMAP\n\ndf_matrix = pd.DataFrame(columns=['Sup'])\n\nfor week in df['Post date'].dt.weekday.unique():\n    # print(week)\n    # print(df_to2017[df_to2017['Post date'].dt.weekday == week].groupby(df_to2017['Post date'].dt.hour)['Votes'].mean())\n    df_matrix = df_matrix.append((df_to2017[df_to2017['Post date'].dt.weekday == week].groupby(df['Post date'].dt.hour)['Title'].size()), ignore_index=True)\n\ndf_matrix = df_matrix.drop(['Sup'], axis=1)\ndf_matrix = df_matrix.applymap(lambda x: x/(df.shape[0]))\ndf_matrix\n\nf, ax = plt.subplots(figsize=(20, 5))\nax = sns.heatmap(df_matrix,cmap='coolwarm')\nax.set_yticklabels(['Monday','Tuesday','Wednesday','Thursday','Friday','Saturday','Sunday',], rotation=45)\nplt.title('Proportion of posts by day/hour (UTC-5)', fontsize=20)\n# ax.set_title('Proportion of posts by day/hour (UTC-5)', fontsize=20)",
      "execution_count": null,
      "outputs": []
    },
    {
      "metadata": {
        "_uuid": "b60bb81b680bd7e9f7732a1ddccea9a8814f7c67"
      },
      "cell_type": "markdown",
      "source": "Unlike aggregated data for months and days, it is harder to pinpoint the most popular moments by time, given that Kaggle is an international community. For these charts I used the UTC-5 (New York, US) time zone. \nThe peaks during the morning might be explained by these timezones, since during this time the early US Kaggles overlap with the late-night Europeans, given that those are the most active areas.\n\nCombining the time trends, posting on a Sunday morning around the holiday period might be the best time to get exposure for your contribution. Given that I try to make data driven decisions, I reckon posting this at this very moment, should increase my chances in receiving valuable community feedback, which is - again - more than welcome."
    },
    {
      "metadata": {
        "_uuid": "a7c479f70c19503db1ed2d76a195ec89de055b43"
      },
      "cell_type": "markdown",
      "source": ""
    }
  ],
  "metadata": {
    "kernelspec": {
      "display_name": "Python 3",
      "language": "python",
      "name": "python3"
    },
    "language_info": {
      "name": "python",
      "version": "3.6.6",
      "mimetype": "text/x-python",
      "codemirror_mode": {
        "name": "ipython",
        "version": 3
      },
      "pygments_lexer": "ipython3",
      "nbconvert_exporter": "python",
      "file_extension": ".py"
    }
  },
  "nbformat": 4,
  "nbformat_minor": 1
}